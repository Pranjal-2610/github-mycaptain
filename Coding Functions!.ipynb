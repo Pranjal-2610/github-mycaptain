{
 "cells": [
  {
   "cell_type": "code",
   "execution_count": 49,
   "metadata": {},
   "outputs": [
    {
     "name": "stdout",
     "output_type": "stream",
     "text": [
      "[1, 'apple', 2.34, (2, 3), {1: 'you', 2: 'me'}]\n",
      "[1, 'apple', 2.34, (2, 3), {1: 'you', 2: 'me'}, 'new']\n",
      "[1, 'mango', 'apple', 2.34, (2, 3), {1: 'you', 2: 'me'}, 'new']\n",
      "[1, 'mango', 'apple', 2.34, (2, 3), {1: 'you', 2: 'me'}, 'new', 'I', 'am', 'PRANJAL', 'SHARMA']\n",
      "[1, 'mango', 'apple', 2.34, (2, 3), {1: 'you', 2: 'me'}, 'new', 'I', 'am', 'PRANJAL', 'SHARMA', 2, 3]\n",
      "[1, 'mango', 'apple', 2.34, (2, 3), {1: 'you', 2: 'me'}, 'new', 'I', 'am', 'PRANJAL', 'SHARMA', 1, 'mango', 'apple', 2.34, (2, 3), {1: 'you', 2: 'me'}, 'new', 'I', 'am', 'PRANJAL', 'SHARMA']\n"
     ]
    }
   ],
   "source": [
    "mylist=[1,\"apple\",2.34,(2,3),{1:\"you\",2:\"me\"}]#lists are mutable\n",
    "#mylist contains heterogeneous data entities\n",
    "print(mylist)\n",
    "mylist.append(\"new\")#append:add element at last\n",
    "print(mylist)\n",
    "mylist.insert(1,\"mango\")#insert:add element at specified index\n",
    "print(mylist)\n",
    "mylist.extend([\"I\",\"am\",\"PRANJAL\",\"SHARMA\"])#extend:adds elements of the given sequence at last\n",
    "print(mylist)\n",
    "#we can use concatenation and repititions over lists\n",
    "print(mylist+[2,3])\n",
    "print(mylist*2)\n",
    "mylist.clear()"
   ]
  },
  {
   "cell_type": "code",
   "execution_count": 48,
   "metadata": {},
   "outputs": [
    {
     "name": "stdout",
     "output_type": "stream",
     "text": [
      "(1, 2, [3, 4], (5, 6), 'animal')\n",
      "[3, 4]\n",
      "animal\n",
      "((5, 6), 'animal')\n",
      "1\n",
      "2\n",
      "[3, 4]\n",
      "(5, 6)\n",
      "animal\n",
      "(1, 2, [3, 4], (5, 6), 'animal', 2, 3, 4)\n",
      "(1, 2, [3, 4], (5, 6), 'animal', 1, 2, [3, 4], (5, 6), 'animal')\n"
     ]
    }
   ],
   "source": [
    "mytuple=(1,2,[3,4],(5,6),\"animal\")#tuples are immutable\n",
    "#mytuple contains heterogenous data entities\n",
    "print(mytuple)#accessing full tuple\n",
    "print(mytuple[2])#accessing elements using index\n",
    "print(mytuple[-1])#using negative indexing\n",
    "print(mytuple[3:5])#using slicing\n",
    "\n",
    "for i in mytuple:\n",
    "    print(i)#iterating over tuple\n",
    "\n",
    "#tuples are immutable they can't be changed\n",
    "#but we can use concatenation and repititions over tuple\n",
    "print(mytuple+(2,3,4))\n",
    "print(mytuple*2)\n",
    "del(mytuple)"
   ]
  },
  {
   "cell_type": "code",
   "execution_count": 47,
   "metadata": {},
   "outputs": [
    {
     "name": "stdout",
     "output_type": "stream",
     "text": [
      "{1: 'adarsh', 2: 'gopal', 3: 'jaideep', 4: 'pranjal', 5: 'uddeshya'}\n",
      "dict_values(['adarsh', 'gopal', 'jaideep', 'pranjal', 'uddeshya'])\n",
      "dict_keys([1, 2, 3, 4, 5])\n",
      "{1: 'adarsh', 2: 'gopal', 4: 'pranjal', 5: 'uddeshya'}\n",
      "{2: 'gopal', 4: 'pranjal', 5: 'uddeshya'}\n",
      "{}\n"
     ]
    }
   ],
   "source": [
    "mydict={1:\"adarsh\",2:\"gopal\",3:\"jaideep\",4:\"pranjal\",5:\"uddeshya\"}\n",
    "print(mydict)#key:value pair\n",
    "print(mydict.values())#values\n",
    "print(mydict.keys())#keys\n",
    "mydict.pop(3)#removes the key:value pair by using key as argument and returns the value\n",
    "print(mydict)\n",
    "del mydict[1]#del deletes the element specified and it can even delete the complete dictionary\n",
    "print(mydict)\n",
    "mydict.clear()#makes the dictionary empty\n",
    "print(mydict)"
   ]
  },
  {
   "cell_type": "code",
   "execution_count": null,
   "metadata": {},
   "outputs": [],
   "source": []
  }
 ],
 "metadata": {
  "kernelspec": {
   "display_name": "Python 3",
   "language": "python",
   "name": "python3"
  },
  "language_info": {
   "codemirror_mode": {
    "name": "ipython",
    "version": 3
   },
   "file_extension": ".py",
   "mimetype": "text/x-python",
   "name": "python",
   "nbconvert_exporter": "python",
   "pygments_lexer": "ipython3",
   "version": "3.7.4"
  }
 },
 "nbformat": 4,
 "nbformat_minor": 4
}
#funtion makes easier to use python program
