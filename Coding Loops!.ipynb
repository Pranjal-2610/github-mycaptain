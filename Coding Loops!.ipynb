{
 "cells": [
  {
   "cell_type": "code",
   "execution_count": 26,
   "metadata": {},
   "outputs": [
    {
     "name": "stdout",
     "output_type": "stream",
     "text": [
      "Range:10\n",
      "0 1 1 2 3 5 8 13 21 34 "
     ]
    }
   ],
   "source": [
    "#fibonacci numbers 0,1,1,2,3,5,8.........\n",
    "n=int(input(\"range:\"))\n",
    "n1,n2=0,1\n",
    "if n==1:\n",
    "   print(n1)\n",
    "else:\n",
    "   while(n):\n",
    "       print(n1,end=\" \")\n",
    "       n3=n1+n2\n",
    "       n1=n2\n",
    "       n2=n3\n",
    "       n-=1"
   ]
  },
  {
   "cell_type": "code",
   "execution_count": 25,
   "metadata": {},
   "outputs": [
    {
     "name": "stdout",
     "output_type": "stream",
     "text": [
      "Enter List Elements:1 2 3 -9 -6 4 3 6 0\n",
      "[1, 2, 3, 4, 3, 6]\n"
     ]
    }
   ],
   "source": [
    "#positive numbers mean number greater than 0\n",
    "n=input(\"Enter List Elements:\")\n",
    "l,l1=list(map(int,n.split())),[] \n",
    "for i in l:\n",
    "    if(i>0):\n",
    "        l1.append(i)\n",
    "print(l1)"
   ]
  },
  {
   "cell_type": "code",
   "execution_count": null,
   "metadata": {},
   "outputs": [],
   "source": []
  }
 ],
 "metadata": {
  "kernelspec": {
   "display_name": "Python 3",
   "language": "python",
   "name": "python3"
  },
  "language_info": {
   "codemirror_mode": {
    "name": "ipython",
    "version": 3
   },
   "file_extension": ".py",
   "mimetype": "text/x-python",
   "name": "python",
   "nbconvert_exporter": "python",
   "pygments_lexer": "ipython3",
   "version": "3.7.4"
  }
 },
 "nbformat": 4,
 "nbformat_minor": 4
}
